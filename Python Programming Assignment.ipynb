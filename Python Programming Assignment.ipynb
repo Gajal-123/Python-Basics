{
 "cells": [
  {
   "cell_type": "markdown",
   "id": "1d2eacd4-f5a0-4bd1-b19c-44c96656e6d6",
   "metadata": {},
   "source": [
    "# 1.Key features of Python"
   ]
  },
  {
   "cell_type": "code",
   "execution_count": null,
   "id": "60e4be59-9deb-4cfa-97df-83f730892248",
   "metadata": {},
   "outputs": [],
   "source": [
    "# Key features of Python\n",
    "'''\n",
    "# 1. Simple and readable : Python's syntax is super clean and easy . That's why it's highly reacommended for beginners use as well.There's no need for a bunch of extra stuff like in some other languages.\n",
    "\n",
    "# 2. Interpreted Language : Python runs line by line, which is helful because if there's an error, it stops right there and tells you. You don't have to complete it first.\n",
    "\n",
    "# 3. Dynamically typed : You don't need to tell Python what type of variable you're creating. No need to say 'int' or 'string' . Python just figures it out.\n",
    "\n",
    "# 4. Huge Array of Standard Library : It comes with a lot of tools built-in. So if you want to do stuff like working with dates, random numbers, or even basic web tasks- you don't need to install extra.\n",
    "\n",
    "# 5. Versatile and Multi-purpose : You can use Python for pretty much anything : web development, data science(Pandas, Numpy), automation(scripting), AI and more.\n",
    "\n",
    "# 6. Large community : If you're stuck, chances are someone has already had the same issue and there's solution online. Plis, lots of tutorials and libraries are out there.\n",
    "\n",
    "# 7. Cross-platform : Pyhton works on Windows, macOS, Linux - pretty much any operating system. So your code can run almost anywhere without big changes.\n",
    "\n",
    "'''"
   ]
  },
  {
   "cell_type": "code",
   "execution_count": 6,
   "id": "e0843755-6aca-4d18-be4b-01aec656ce80",
   "metadata": {},
   "outputs": [
    {
     "name": "stdout",
     "output_type": "stream",
     "text": [
      "You are an adult\n"
     ]
    }
   ],
   "source": [
    "# Few examples:\n",
    "1.\n",
    "age = 22\n",
    "if age > 18:\n",
    "    print(\"You are an adult\")"
   ]
  },
  {
   "cell_type": "code",
   "execution_count": 8,
   "id": "1f587848-07b1-4d20-9692-707e6fd3a742",
   "metadata": {},
   "outputs": [],
   "source": [
    "2. #dynamically typed\n",
    "name = \"Alice\"\n",
    "age = 25"
   ]
  },
  {
   "cell_type": "code",
   "execution_count": 10,
   "id": "57b49757-32cd-4b99-b84d-9cfe60bbda28",
   "metadata": {},
   "outputs": [
    {
     "name": "stdout",
     "output_type": "stream",
     "text": [
      "3\n"
     ]
    }
   ],
   "source": [
    "3. # Library \n",
    "import random\n",
    "print(random.randint(1,10))"
   ]
  },
  {
   "cell_type": "markdown",
   "id": "2e37e195-1642-420c-9637-43440f0dac56",
   "metadata": {},
   "source": [
    "# 2. Predefined keywords in Python"
   ]
  },
  {
   "cell_type": "code",
   "execution_count": null,
   "id": "5d97e79c-f504-4ae2-ab0e-c508d7616ee5",
   "metadata": {},
   "outputs": [],
   "source": [
    "# Predefined keywords in Pyhton are reserved words that have special meaning and purpose in the language. They are used to define the syntax and structure of Python programs, and you cannot use them as variale names.\n",
    "  #like - (if, else, elif, for, while, def, returns, etc.)"
   ]
  },
  {
   "cell_type": "code",
   "execution_count": 16,
   "id": "b4fd2d3c-d3ad-45c2-b52a-2e7880ab2cfe",
   "metadata": {},
   "outputs": [
    {
     "name": "stdout",
     "output_type": "stream",
     "text": [
      "Adult\n"
     ]
    }
   ],
   "source": [
    "#Few examples:\n",
    "1. #if, elif, else - are used to make decisions.\n",
    "age = 22\n",
    "if age > 18:\n",
    "    print(\"Adult\")\n",
    "elif age == 18:\n",
    "    print(\"Just turned adult\")\n",
    "else:\n",
    "    print(\"Not an adult\")"
   ]
  },
  {
   "cell_type": "code",
   "execution_count": 18,
   "id": "1dacc147-f792-4896-842e-b7df959238f8",
   "metadata": {},
   "outputs": [
    {
     "name": "stdout",
     "output_type": "stream",
     "text": [
      "0\n",
      "1\n",
      "2\n",
      "3\n",
      "4\n"
     ]
    }
   ],
   "source": [
    "2. #for, while - are used to loops through things.\n",
    "for i in range(5):\n",
    "    print(i)\n"
   ]
  },
  {
   "cell_type": "code",
   "execution_count": 24,
   "id": "24b46f1f-19ea-4c3a-8add-ef4500c843c9",
   "metadata": {},
   "outputs": [
    {
     "name": "stdout",
     "output_type": "stream",
     "text": [
      "0\n",
      "1\n",
      "2\n"
     ]
    }
   ],
   "source": [
    "3. #break, continue - used to control loops\n",
    "for i in range(5):\n",
    "    if i == 3:\n",
    "        break\n",
    "    print(i)    "
   ]
  },
  {
   "cell_type": "markdown",
   "id": "4819cb56-28d3-4fe3-8ec1-f1ba0e9edaa2",
   "metadata": {},
   "source": [
    "# 3. Compare and contrast mutable and immutable objects "
   ]
  },
  {
   "cell_type": "code",
   "execution_count": null,
   "id": "b83591ba-d167-4c2c-a4b9-3fa2723b5701",
   "metadata": {},
   "outputs": [],
   "source": [
    "'''\n",
    "Mutable Objects = can be changed\n",
    "- These are like editable things. You can tweark them, add or remove items without making a new code.\n",
    "Examples: \n",
    "-Lists []\n",
    "-Dictionaries[]\n",
    "-Sets[]\n",
    "'''\n",
    "\n",
    "'''\n",
    "Immutable objects = can't be changed\n",
    "- These are frozen in time. If you want to change something or anything in that code, you've got to make a whole new code for that.\n",
    "Examples : \n",
    "-Strings (\"hello\")\n",
    "-Tuples ((1, 2, 3))\n",
    "Integers, floats, boolean\n",
    "'''"
   ]
  },
  {
   "cell_type": "code",
   "execution_count": 33,
   "id": "883bf213-fbeb-405c-b78f-bcb34a902d68",
   "metadata": {},
   "outputs": [
    {
     "name": "stdout",
     "output_type": "stream",
     "text": [
      "[1, 2, 3, 4]\n"
     ]
    }
   ],
   "source": [
    "#Example: Mutable objects\n",
    "my_list = [1,2,3]\n",
    "my_list.append(4)\n",
    "print(my_list)"
   ]
  },
  {
   "cell_type": "code",
   "execution_count": null,
   "id": "6fad6921-4fa0-448a-979a-379c518cf7ab",
   "metadata": {},
   "outputs": [],
   "source": [
    "#Example: Immutable objects\n",
    "name = \"Rahul\"\n",
    "name[0] = \"M\"\n",
    "#it will not change , have to create a new string\n",
    "name = \"Mahul\""
   ]
  },
  {
   "cell_type": "markdown",
   "id": "606036ad-c1df-453f-8def-b335f1e6f65f",
   "metadata": {},
   "source": [
    "# 4.  different types of operators in Python"
   ]
  },
  {
   "cell_type": "code",
   "execution_count": null,
   "id": "803c0dd9-55ad-408b-ae41-3d29bf1c664a",
   "metadata": {},
   "outputs": [],
   "source": [
    "#In Python, opeartors are basically specific symbols or words that let you do things with variables and values.\n",
    "#Types of operators ->"
   ]
  },
  {
   "cell_type": "code",
   "execution_count": 38,
   "id": "017aaad6-6f76-4fc0-8b42-52b90556091e",
   "metadata": {},
   "outputs": [
    {
     "name": "stdout",
     "output_type": "stream",
     "text": [
      "13\n",
      "7\n",
      "30\n",
      "3.3333333333333335\n",
      "1\n",
      "1000\n",
      "3\n"
     ]
    }
   ],
   "source": [
    "# 1. ARITHMETIC OPERATOR -> These are the usual math, used for calculations like, add, substract, multiply, divide, etc.\n",
    "\n",
    "x = 10\n",
    "y = 3\n",
    "print(x+y)  #add them\n",
    "print(x-y)  #subs them\n",
    "print(x*y)  #multiply them\n",
    "print(x/y)  #divide them\n",
    "print(x%y)  #remainder after divide\n",
    "print(x**y) #x raised to y\n",
    "print(x//y) #floor division"
   ]
  },
  {
   "cell_type": "code",
   "execution_count": 42,
   "id": "eb952a55-7163-414a-ad56-dcede1593ad6",
   "metadata": {},
   "outputs": [
    {
     "name": "stdout",
     "output_type": "stream",
     "text": [
      "False\n",
      "True\n",
      "False\n",
      "True\n",
      "False\n",
      "True\n"
     ]
    }
   ],
   "source": [
    "# 2. COMPARISON OPERATOR -> These helps you compare two values and return either True or False.\n",
    "\n",
    "a = 5\n",
    "b = 8\n",
    "print(a == b) #is equal to\n",
    "print(a != b) #is not equal to\n",
    "print(a > b) #is greater than\n",
    "print(a < b) #is lesser than\n",
    "print(a >= b) #is greater than or equal to\n",
    "print(a <= b) # is lesser than or equal to"
   ]
  },
  {
   "cell_type": "code",
   "execution_count": 44,
   "id": "e56654df-6e1b-4332-ab4b-bedc4825ad8f",
   "metadata": {},
   "outputs": [
    {
     "name": "stdout",
     "output_type": "stream",
     "text": [
      "True\n",
      "False\n",
      "False\n"
     ]
    }
   ],
   "source": [
    "# 3. LOGICAL OPERATORS -> used when you need to combine multiple conditions. These are - and, or, not.\n",
    "\n",
    "x = 7\n",
    "\n",
    "print(x > 5 and x < 10)\n",
    "print(x < 5 or x > 10)\n",
    "print(not(x > 5))"
   ]
  },
  {
   "cell_type": "code",
   "execution_count": null,
   "id": "4760a2ca-786d-45cd-9c14-40cbb3873840",
   "metadata": {},
   "outputs": [],
   "source": [
    "# 4. ASSIGNMENT OPERATORS ->  These are used to assign values to variables, sometimes with a twist.\n",
    "\n",
    "x = 10\n",
    "x += 5\n",
    "x -= 3\n",
    "x *= 2\n",
    "x /= 4"
   ]
  },
  {
   "cell_type": "code",
   "execution_count": 46,
   "id": "9da20b23-b078-431a-8a06-a428be8be820",
   "metadata": {},
   "outputs": [
    {
     "name": "stdout",
     "output_type": "stream",
     "text": [
      "4\n",
      "5\n",
      "1\n",
      "-4\n"
     ]
    }
   ],
   "source": [
    "# 5. BITWISE OPERATORS -> These work at the binary level (bit-by-bit). Not super common for beginneers.\n",
    "\n",
    "a = 4\n",
    "b = 5\n",
    "print(a & b)\n",
    "print(a | b)\n",
    "print(a ^ b)\n",
    "print(-a)"
   ]
  },
  {
   "cell_type": "code",
   "execution_count": 48,
   "id": "adab9782-50a0-4ba6-a038-e7c98a75c986",
   "metadata": {},
   "outputs": [
    {
     "name": "stdout",
     "output_type": "stream",
     "text": [
      "True\n",
      "True\n"
     ]
    }
   ],
   "source": [
    "# 6. MEMEBERSHIP OPERATORS -> Checks if a value is in sequence like a list or string.\n",
    "\n",
    "fruits = [\"apple\", \"banana\", \"cherry\"]\n",
    "print(\"banana\" in fruits)\n",
    "print(\"grape\" not in fruits)"
   ]
  },
  {
   "cell_type": "code",
   "execution_count": 50,
   "id": "9f10f19c-2883-457c-b176-7c5a8876660f",
   "metadata": {},
   "outputs": [
    {
     "name": "stdout",
     "output_type": "stream",
     "text": [
      "True\n",
      "False\n",
      "True\n"
     ]
    }
   ],
   "source": [
    "# 7. IDENTITY OPERATORS -> used to check if two variables refer to the same object in memory.\n",
    "\n",
    "a = [1, 2]\n",
    "b = a\n",
    "c = [1, 2]\n",
    "print(a is b)\n",
    "print(a is c)\n",
    "print(a is not c)"
   ]
  },
  {
   "cell_type": "markdown",
   "id": "9372d2b6-88b8-4c69-8c5e-2d9d2bdfe970",
   "metadata": {},
   "source": [
    "# 5. type casting in Python"
   ]
  },
  {
   "cell_type": "code",
   "execution_count": 53,
   "id": "9a6c83a6-c0e7-4d7c-aea0-c9ad445719ce",
   "metadata": {},
   "outputs": [
    {
     "name": "stdout",
     "output_type": "stream",
     "text": [
      "7\n"
     ]
    }
   ],
   "source": [
    "#Type casting in Python is basically when you convert one type of data into another.\n",
    "'''\n",
    "Like converting a string into integer by doing math, converting into an actual number.\n",
    "'''\n",
    "x = \"5\"\n",
    "y = int(x)\n",
    "print(y + 2)\n",
    "\n"
   ]
  },
  {
   "cell_type": "code",
   "execution_count": 55,
   "id": "1b90d5e8-ecb3-4adf-9ef6-0554fc985c94",
   "metadata": {},
   "outputs": [
    {
     "name": "stdout",
     "output_type": "stream",
     "text": [
      "3\n"
     ]
    }
   ],
   "source": [
    "'''\n",
    "Converting a float into an integer\n",
    "'''\n",
    "a = 3.8\n",
    "b = int(a)\n",
    "print(b)"
   ]
  },
  {
   "cell_type": "code",
   "execution_count": 59,
   "id": "bbb36c01-eaea-40db-91d8-457827a47abf",
   "metadata": {},
   "outputs": [
    {
     "name": "stdout",
     "output_type": "stream",
     "text": [
      "My number is 10\n"
     ]
    }
   ],
   "source": [
    "'''\n",
    "Turning an integer into a string\n",
    "'''\n",
    "num = 10 \n",
    "text = str(num)\n",
    "print(\"My number is \" + text)"
   ]
  },
  {
   "cell_type": "markdown",
   "id": "3c6e5e99-c437-4ad2-a7d6-aa71d7e1b397",
   "metadata": {},
   "source": [
    "# 6. conditional statements"
   ]
  },
  {
   "cell_type": "code",
   "execution_count": 62,
   "id": "b41102e7-cdf0-4a83-ba3a-89595965c855",
   "metadata": {},
   "outputs": [
    {
     "name": "stdout",
     "output_type": "stream",
     "text": [
      "You can get a driver's license\n"
     ]
    }
   ],
   "source": [
    "'''\n",
    "Conditional statements in Python are making a decision on some driven conditions. It's basically Python's way of saying\"If this thing is true, then do this. Otherwise, do something else.\"\n",
    "'''\n",
    "#Mainlu used : if, elif, else.\n",
    "\n",
    "age = 17\n",
    "if age >= 18:\n",
    "    print(\"You can vote\")\n",
    "elif age >= 16:\n",
    "    print(\"You can get a driver's license\")\n",
    "else:\n",
    "    print(\"You are still too young for all that\")\n",
    "\n",
    "#So in this case, the code checks the age. If the person is 18 or older, it prints they can vote. If not , it checks if they are at least 16 , and says they can drive. Otherwise, it just says they are too young."
   ]
  },
  {
   "cell_type": "code",
   "execution_count": null,
   "id": "9a7343f5-78f2-4409-b873-15c6c9672cf6",
   "metadata": {},
   "outputs": [],
   "source": [
    "# The conditions are checked in order, top to bottom.\n",
    "# As soon as one condition is true, Python runs that block and skips the rest.\n",
    "# Identation (spacing) matters a lot in Python."
   ]
  },
  {
   "cell_type": "markdown",
   "id": "7214e2c5-a625-4d91-b0fd-89f11121e704",
   "metadata": {},
   "source": [
    "# 7.  different types of loops in Python and their use cases"
   ]
  },
  {
   "cell_type": "code",
   "execution_count": 65,
   "id": "6b6eb5e1-d5d0-4c71-9a20-72b9e3a996b4",
   "metadata": {},
   "outputs": [
    {
     "name": "stdout",
     "output_type": "stream",
     "text": [
      "apple\n",
      "banana\n",
      "mango\n",
      "this is line 0\n",
      "this is line 1\n",
      "this is line 2\n",
      "this is line 3\n",
      "this is line 4\n"
     ]
    }
   ],
   "source": [
    "# When you are writing Python code, sometimes you want to repeat something over and over  - like going through a list or doing a task until a condition is met . That's where loos come in. Python mainly has two types of loop: for loops and while loops.\n",
    "\n",
    "#1. for loop - When you know how many times you wanr to loop. When you are going through a list, a range of numbers, or anything that is iterable. It's like saying \"for each item\".\n",
    "# Example - \n",
    "\n",
    "fruits = [\"apple\", \"banana\", \"mango\"]\n",
    "for fruit in fruits:\n",
    "    print(fruit)\n",
    "\n",
    "#USE CASE - Going through items in a list, printing data, doing calculations for each element, etc.\n",
    "\n",
    "for i in range(5):\n",
    "    print(\"this is line\" , i)\n",
    "#This will print from line 0 to 4"
   ]
  },
  {
   "cell_type": "code",
   "execution_count": 67,
   "id": "4c433831-2a80-4fba-b77f-bc4c28e0ad98",
   "metadata": {},
   "outputs": [
    {
     "name": "stdout",
     "output_type": "stream",
     "text": [
      "Count is: 0\n",
      "Count is: 1\n",
      "Count is: 2\n",
      "Count is: 3\n",
      "Count is: 4\n"
     ]
    }
   ],
   "source": [
    "# 2. while loop - When you don't know exactly how many times, but want to keep looping until something changes. This is more like saying\"Keep doing this as long as the condition is true\".\n",
    "#Example -\n",
    "\n",
    "count = 0\n",
    "while count < 5:\n",
    "    print(\"Count is:\" , count)\n",
    "    count += 1\n",
    "\n",
    "#USE CASE - Waiting for a condition to become false, like checking user input, running a game loop, or retrying until success."
   ]
  },
  {
   "cell_type": "code",
   "execution_count": 69,
   "id": "c82e0194-4fe8-4ab0-8bad-81137419c797",
   "metadata": {},
   "outputs": [
    {
     "name": "stdout",
     "output_type": "stream",
     "text": [
      "i = 0, j = 0\n",
      "i = 0, j = 1\n",
      "i = 1, j = 0\n",
      "i = 1, j = 1\n",
      "i = 2, j = 0\n",
      "i = 2, j = 1\n"
     ]
    }
   ],
   "source": [
    "# 3. Nested loop : Loop inside loops , when we loop through a list , and for each item, loop through something else. That is nested loop.\n",
    "#Example : \n",
    "\n",
    "for i in range(3):\n",
    "    for j in range(2):\n",
    "        print(f\"i = {i}, j = {j}\")\n",
    "\n",
    "#USE CASE - Working with 2D lists, printing patterns, comparing multiple items, etc."
   ]
  },
  {
   "cell_type": "code",
   "execution_count": 75,
   "id": "9ce913c3-fc28-438f-b443-4cd3cb5ad26a",
   "metadata": {},
   "outputs": [
    {
     "name": "stdout",
     "output_type": "stream",
     "text": [
      "0\n",
      "1\n",
      "2\n",
      "3\n",
      "4\n"
     ]
    }
   ],
   "source": [
    "# 4. LOOP CONTROL STATEMENTS - Tools to manage how loops behave\n",
    "\n",
    "#- break- exits the loop completely\n",
    "#  continue - skips to the next itertion\n",
    "\n",
    "#Example - \n",
    "\n",
    "for num in range(10):\n",
    "     if num == 5:\n",
    "         break\n",
    "     print(num)\n",
    "\n",
    "#USE CASE - Stop a loop when something specific happens."
   ]
  },
  {
   "cell_type": "code",
   "execution_count": null,
   "id": "d1a96bc0-f8cf-48f9-9838-3ba8a9c98b39",
   "metadata": {},
   "outputs": [],
   "source": []
  }
 ],
 "metadata": {
  "kernelspec": {
   "display_name": "Python 3 (ipykernel)",
   "language": "python",
   "name": "python3"
  },
  "language_info": {
   "codemirror_mode": {
    "name": "ipython",
    "version": 3
   },
   "file_extension": ".py",
   "mimetype": "text/x-python",
   "name": "python",
   "nbconvert_exporter": "python",
   "pygments_lexer": "ipython3",
   "version": "3.12.7"
  }
 },
 "nbformat": 4,
 "nbformat_minor": 5
}
